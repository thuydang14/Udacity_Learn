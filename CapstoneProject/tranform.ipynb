{
 "cells": [
  {
   "cell_type": "code",
   "execution_count": 1,
   "metadata": {
    "editable": true
   },
   "outputs": [],
   "source": [
    "import pandas as pd\n",
    "from pyspark.sql import SparkSession\n",
    "from pyspark.sql import functions as F\n",
    "from pyspark.sql.types import StructType, StructField, StringType, IntegerType, BooleanType, TimestampType, ArrayType"
   ]
  },
  {
   "cell_type": "code",
   "execution_count": 2,
   "metadata": {
    "editable": true
   },
   "outputs": [],
   "source": [
    "spark = SparkSession.builder.\\\n",
    "config(\"spark.jars.repositories\", \"https://repos.spark-packages.org/\").\\\n",
    "config(\"spark.jars.packages\", \"saurfang:spark-sas7bdat:2.0.0-s_2.11\").\\\n",
    "enableHiveSupport().getOrCreate()"
   ]
  },
  {
   "cell_type": "code",
   "execution_count": null,
   "metadata": {
    "editable": true
   },
   "outputs": [],
   "source": []
  },
  {
   "cell_type": "code",
   "execution_count": 3,
   "metadata": {
    "editable": true
   },
   "outputs": [],
   "source": [
    "video = './youtube_data/video/*.csv'\n",
    "category = './youtube_data/category/*.json'"
   ]
  },
  {
   "cell_type": "code",
   "execution_count": 4,
   "metadata": {
    "editable": true
   },
   "outputs": [],
   "source": [
    "schema_category = StructType([\n",
    "    StructField('etag', StringType(), True),\n",
    "    StructField('items', ArrayType(\n",
    "            StructType([\n",
    "                StructField('etag', StringType(), True),\n",
    "                StructField('id', StringType(), True),\n",
    "                StructField('kind', StringType(), True),\n",
    "                StructField('snippet', StructType([\n",
    "                    StructField('assignable', BooleanType(), True),\n",
    "                    StructField('channelId', StringType(), True),\n",
    "                    StructField('title', StringType(), True)\n",
    "                    ])\n",
    "                ),\n",
    "            ])\n",
    "    )),\n",
    "    StructField('kind', StringType(), True)\n",
    "])"
   ]
  },
  {
   "cell_type": "code",
   "execution_count": 5,
   "metadata": {
    "editable": true
   },
   "outputs": [],
   "source": [
    "df_category = spark.read\\\n",
    "                .option('multiline', 'true')\\\n",
    "                .schema(schema_category)\\\n",
    "                .json(category)"
   ]
  },
  {
   "cell_type": "code",
   "execution_count": 6,
   "metadata": {
    "editable": true
   },
   "outputs": [
    {
     "name": "stdout",
     "output_type": "stream",
     "text": [
      "root\n",
      " |-- etag: string (nullable = true)\n",
      " |-- items: array (nullable = true)\n",
      " |    |-- element: struct (containsNull = true)\n",
      " |    |    |-- etag: string (nullable = true)\n",
      " |    |    |-- id: string (nullable = true)\n",
      " |    |    |-- kind: string (nullable = true)\n",
      " |    |    |-- snippet: struct (nullable = true)\n",
      " |    |    |    |-- assignable: boolean (nullable = true)\n",
      " |    |    |    |-- channelId: string (nullable = true)\n",
      " |    |    |    |-- title: string (nullable = true)\n",
      " |-- kind: string (nullable = true)\n",
      "\n"
     ]
    }
   ],
   "source": [
    "df_category.printSchema()"
   ]
  },
  {
   "cell_type": "code",
   "execution_count": 7,
   "metadata": {
    "editable": true
   },
   "outputs": [
    {
     "name": "stdout",
     "output_type": "stream",
     "text": [
      "+--------------------+--------------------+--------------------+\n",
      "|                etag|               items|                kind|\n",
      "+--------------------+--------------------+--------------------+\n",
      "|\"m2yskBQFythfE4ir...|[[\"m2yskBQFythfE4...|youtube#videoCate...|\n",
      "|\"XI7nbFXulYBIpL0a...|[[\"XI7nbFXulYBIpL...|youtube#videoCate...|\n",
      "|\"XI7nbFXulYBIpL0a...|[[\"XI7nbFXulYBIpL...|youtube#videoCate...|\n",
      "|\"XI7nbFXulYBIpL0a...|[[\"XI7nbFXulYBIpL...|youtube#videoCate...|\n",
      "|\"XI7nbFXulYBIpL0a...|[[\"XI7nbFXulYBIpL...|youtube#videoCate...|\n",
      "|\"m2yskBQFythfE4ir...|[[\"m2yskBQFythfE4...|youtube#videoCate...|\n",
      "|\"XI7nbFXulYBIpL0a...|[[\"XI7nbFXulYBIpL...|youtube#videoCate...|\n",
      "|\"ld9biNPKjAjgjV7E...|[[\"ld9biNPKjAjgjV...|youtube#videoCate...|\n",
      "|\"ld9biNPKjAjgjV7E...|[[\"ld9biNPKjAjgjV...|youtube#videoCate...|\n",
      "|\"ld9biNPKjAjgjV7E...|[[\"ld9biNPKjAjgjV...|youtube#videoCate...|\n",
      "+--------------------+--------------------+--------------------+\n",
      "\n"
     ]
    }
   ],
   "source": [
    "df_category.show()"
   ]
  },
  {
   "cell_type": "code",
   "execution_count": 6,
   "metadata": {
    "editable": true
   },
   "outputs": [],
   "source": [
    "explode_category = df_category.select(F.explode('items').alias('category')).select('category.*')"
   ]
  },
  {
   "cell_type": "code",
   "execution_count": 9,
   "metadata": {
    "editable": true
   },
   "outputs": [
    {
     "name": "stdout",
     "output_type": "stream",
     "text": [
      "+--------------------+---+--------------------+--------------------+\n",
      "|                etag| id|                kind|             snippet|\n",
      "+--------------------+---+--------------------+--------------------+\n",
      "|\"m2yskBQFythfE4ir...|  1|youtube#videoCate...|[true, UCBR8-60-B...|\n",
      "|\"m2yskBQFythfE4ir...|  2|youtube#videoCate...|[true, UCBR8-60-B...|\n",
      "|\"m2yskBQFythfE4ir...| 10|youtube#videoCate...|[true, UCBR8-60-B...|\n",
      "|\"m2yskBQFythfE4ir...| 15|youtube#videoCate...|[true, UCBR8-60-B...|\n",
      "|\"m2yskBQFythfE4ir...| 17|youtube#videoCate...|[true, UCBR8-60-B...|\n",
      "|\"m2yskBQFythfE4ir...| 18|youtube#videoCate...|[false, UCBR8-60-...|\n",
      "|\"m2yskBQFythfE4ir...| 19|youtube#videoCate...|[true, UCBR8-60-B...|\n",
      "|\"m2yskBQFythfE4ir...| 20|youtube#videoCate...|[true, UCBR8-60-B...|\n",
      "|\"m2yskBQFythfE4ir...| 21|youtube#videoCate...|[false, UCBR8-60-...|\n",
      "|\"m2yskBQFythfE4ir...| 22|youtube#videoCate...|[true, UCBR8-60-B...|\n",
      "|\"m2yskBQFythfE4ir...| 23|youtube#videoCate...|[true, UCBR8-60-B...|\n",
      "|\"m2yskBQFythfE4ir...| 24|youtube#videoCate...|[true, UCBR8-60-B...|\n",
      "|\"m2yskBQFythfE4ir...| 25|youtube#videoCate...|[true, UCBR8-60-B...|\n",
      "|\"m2yskBQFythfE4ir...| 26|youtube#videoCate...|[true, UCBR8-60-B...|\n",
      "|\"m2yskBQFythfE4ir...| 27|youtube#videoCate...|[true, UCBR8-60-B...|\n",
      "|\"m2yskBQFythfE4ir...| 28|youtube#videoCate...|[true, UCBR8-60-B...|\n",
      "|\"m2yskBQFythfE4ir...| 29|youtube#videoCate...|[true, UCBR8-60-B...|\n",
      "|\"m2yskBQFythfE4ir...| 30|youtube#videoCate...|[false, UCBR8-60-...|\n",
      "|\"m2yskBQFythfE4ir...| 31|youtube#videoCate...|[false, UCBR8-60-...|\n",
      "|\"m2yskBQFythfE4ir...| 32|youtube#videoCate...|[false, UCBR8-60-...|\n",
      "+--------------------+---+--------------------+--------------------+\n",
      "only showing top 20 rows\n",
      "\n"
     ]
    }
   ],
   "source": [
    "explode_category.show()"
   ]
  },
  {
   "cell_type": "code",
   "execution_count": 7,
   "metadata": {
    "editable": true
   },
   "outputs": [],
   "source": [
    "dim_category = explode_category.select('etag', 'id', 'snippet.assignable', 'snippet.channelId', 'snippet.title')\n",
    "dim_category = dim_category.dropDuplicates(['id', 'title'])"
   ]
  },
  {
   "cell_type": "code",
   "execution_count": 8,
   "metadata": {
    "editable": true
   },
   "outputs": [],
   "source": [
    "dim_category = dim_category.withColumn('id', dim_category.id.cast(IntegerType()))\n",
    "dim_category = dim_category.select(['id', 'title']).sort('id', ascending=True)"
   ]
  },
  {
   "cell_type": "code",
   "execution_count": 18,
   "metadata": {
    "editable": true
   },
   "outputs": [],
   "source": [
    "cate1 = dim_category.toPandas()"
   ]
  },
  {
   "cell_type": "code",
   "execution_count": 16,
   "metadata": {
    "editable": true
   },
   "outputs": [],
   "source": [
    "cate1 = cate1.values.tolist()"
   ]
  },
  {
   "cell_type": "code",
   "execution_count": 20,
   "metadata": {
    "editable": true
   },
   "outputs": [
    {
     "data": {
      "text/plain": [
       "dtype('int32')"
      ]
     },
     "execution_count": 20,
     "metadata": {},
     "output_type": "execute_result"
    }
   ],
   "source": [
    "cate1['id'].dtypes"
   ]
  },
  {
   "cell_type": "code",
   "execution_count": 10,
   "metadata": {
    "editable": true
   },
   "outputs": [
    {
     "data": {
      "text/html": [
       "<div>\n",
       "<style scoped>\n",
       "    .dataframe tbody tr th:only-of-type {\n",
       "        vertical-align: middle;\n",
       "    }\n",
       "\n",
       "    .dataframe tbody tr th {\n",
       "        vertical-align: top;\n",
       "    }\n",
       "\n",
       "    .dataframe thead th {\n",
       "        text-align: right;\n",
       "    }\n",
       "</style>\n",
       "<table border=\"1\" class=\"dataframe\">\n",
       "  <thead>\n",
       "    <tr style=\"text-align: right;\">\n",
       "      <th></th>\n",
       "      <th>id</th>\n",
       "      <th>title</th>\n",
       "    </tr>\n",
       "  </thead>\n",
       "  <tbody>\n",
       "    <tr>\n",
       "      <th>0</th>\n",
       "      <td>1</td>\n",
       "      <td>Film &amp; Animation</td>\n",
       "    </tr>\n",
       "    <tr>\n",
       "      <th>1</th>\n",
       "      <td>2</td>\n",
       "      <td>Autos &amp; Vehicles</td>\n",
       "    </tr>\n",
       "    <tr>\n",
       "      <th>2</th>\n",
       "      <td>10</td>\n",
       "      <td>Music</td>\n",
       "    </tr>\n",
       "    <tr>\n",
       "      <th>3</th>\n",
       "      <td>15</td>\n",
       "      <td>Pets &amp; Animals</td>\n",
       "    </tr>\n",
       "    <tr>\n",
       "      <th>4</th>\n",
       "      <td>17</td>\n",
       "      <td>Sports</td>\n",
       "    </tr>\n",
       "    <tr>\n",
       "      <th>5</th>\n",
       "      <td>18</td>\n",
       "      <td>Short Movies</td>\n",
       "    </tr>\n",
       "    <tr>\n",
       "      <th>6</th>\n",
       "      <td>19</td>\n",
       "      <td>Travel &amp; Events</td>\n",
       "    </tr>\n",
       "    <tr>\n",
       "      <th>7</th>\n",
       "      <td>20</td>\n",
       "      <td>Gaming</td>\n",
       "    </tr>\n",
       "    <tr>\n",
       "      <th>8</th>\n",
       "      <td>21</td>\n",
       "      <td>Videoblogging</td>\n",
       "    </tr>\n",
       "    <tr>\n",
       "      <th>9</th>\n",
       "      <td>22</td>\n",
       "      <td>People &amp; Blogs</td>\n",
       "    </tr>\n",
       "    <tr>\n",
       "      <th>10</th>\n",
       "      <td>23</td>\n",
       "      <td>Comedy</td>\n",
       "    </tr>\n",
       "    <tr>\n",
       "      <th>11</th>\n",
       "      <td>24</td>\n",
       "      <td>Entertainment</td>\n",
       "    </tr>\n",
       "    <tr>\n",
       "      <th>12</th>\n",
       "      <td>25</td>\n",
       "      <td>News &amp; Politics</td>\n",
       "    </tr>\n",
       "    <tr>\n",
       "      <th>13</th>\n",
       "      <td>26</td>\n",
       "      <td>Howto &amp; Style</td>\n",
       "    </tr>\n",
       "    <tr>\n",
       "      <th>14</th>\n",
       "      <td>27</td>\n",
       "      <td>Education</td>\n",
       "    </tr>\n",
       "    <tr>\n",
       "      <th>15</th>\n",
       "      <td>28</td>\n",
       "      <td>Science &amp; Technology</td>\n",
       "    </tr>\n",
       "    <tr>\n",
       "      <th>16</th>\n",
       "      <td>29</td>\n",
       "      <td>Nonprofits &amp; Activism</td>\n",
       "    </tr>\n",
       "    <tr>\n",
       "      <th>17</th>\n",
       "      <td>30</td>\n",
       "      <td>Movies</td>\n",
       "    </tr>\n",
       "    <tr>\n",
       "      <th>18</th>\n",
       "      <td>31</td>\n",
       "      <td>Anime/Animation</td>\n",
       "    </tr>\n",
       "    <tr>\n",
       "      <th>19</th>\n",
       "      <td>32</td>\n",
       "      <td>Action/Adventure</td>\n",
       "    </tr>\n",
       "    <tr>\n",
       "      <th>20</th>\n",
       "      <td>33</td>\n",
       "      <td>Classics</td>\n",
       "    </tr>\n",
       "    <tr>\n",
       "      <th>21</th>\n",
       "      <td>34</td>\n",
       "      <td>Comedy</td>\n",
       "    </tr>\n",
       "    <tr>\n",
       "      <th>22</th>\n",
       "      <td>35</td>\n",
       "      <td>Documentary</td>\n",
       "    </tr>\n",
       "    <tr>\n",
       "      <th>23</th>\n",
       "      <td>36</td>\n",
       "      <td>Drama</td>\n",
       "    </tr>\n",
       "    <tr>\n",
       "      <th>24</th>\n",
       "      <td>37</td>\n",
       "      <td>Family</td>\n",
       "    </tr>\n",
       "    <tr>\n",
       "      <th>25</th>\n",
       "      <td>38</td>\n",
       "      <td>Foreign</td>\n",
       "    </tr>\n",
       "    <tr>\n",
       "      <th>26</th>\n",
       "      <td>39</td>\n",
       "      <td>Horror</td>\n",
       "    </tr>\n",
       "    <tr>\n",
       "      <th>27</th>\n",
       "      <td>40</td>\n",
       "      <td>Sci-Fi/Fantasy</td>\n",
       "    </tr>\n",
       "    <tr>\n",
       "      <th>28</th>\n",
       "      <td>41</td>\n",
       "      <td>Thriller</td>\n",
       "    </tr>\n",
       "    <tr>\n",
       "      <th>29</th>\n",
       "      <td>42</td>\n",
       "      <td>Shorts</td>\n",
       "    </tr>\n",
       "    <tr>\n",
       "      <th>30</th>\n",
       "      <td>43</td>\n",
       "      <td>Shows</td>\n",
       "    </tr>\n",
       "    <tr>\n",
       "      <th>31</th>\n",
       "      <td>44</td>\n",
       "      <td>Trailers</td>\n",
       "    </tr>\n",
       "  </tbody>\n",
       "</table>\n",
       "</div>"
      ],
      "text/plain": [
       "    id                  title\n",
       "0    1       Film & Animation\n",
       "1    2       Autos & Vehicles\n",
       "2   10                  Music\n",
       "3   15         Pets & Animals\n",
       "4   17                 Sports\n",
       "5   18           Short Movies\n",
       "6   19        Travel & Events\n",
       "7   20                 Gaming\n",
       "8   21          Videoblogging\n",
       "9   22         People & Blogs\n",
       "10  23                 Comedy\n",
       "11  24          Entertainment\n",
       "12  25        News & Politics\n",
       "13  26          Howto & Style\n",
       "14  27              Education\n",
       "15  28   Science & Technology\n",
       "16  29  Nonprofits & Activism\n",
       "17  30                 Movies\n",
       "18  31        Anime/Animation\n",
       "19  32       Action/Adventure\n",
       "20  33               Classics\n",
       "21  34                 Comedy\n",
       "22  35            Documentary\n",
       "23  36                  Drama\n",
       "24  37                 Family\n",
       "25  38                Foreign\n",
       "26  39                 Horror\n",
       "27  40         Sci-Fi/Fantasy\n",
       "28  41               Thriller\n",
       "29  42                 Shorts\n",
       "30  43                  Shows\n",
       "31  44               Trailers"
      ]
     },
     "execution_count": 10,
     "metadata": {},
     "output_type": "execute_result"
    }
   ],
   "source": [
    "cate"
   ]
  },
  {
   "cell_type": "code",
   "execution_count": 5,
   "metadata": {
    "editable": true
   },
   "outputs": [],
   "source": [
    "schema_video = StructType([\n",
    "    StructField('video_id', StringType(), True),\n",
    "    StructField('trending_date', StringType(), True),\n",
    "    StructField('title', StringType(), True),\n",
    "    StructField('channel_title', StringType(), True),\n",
    "    StructField('category_id', IntegerType(), True),\n",
    "    StructField('publish_time', TimestampType(), True),\n",
    "    StructField('tags', StringType(), True),\n",
    "    StructField('views', IntegerType(), True),\n",
    "    StructField('likes', IntegerType(), True),\n",
    "    StructField('dislikes', IntegerType(), True),\n",
    "    StructField('comment_count', IntegerType(), True),\n",
    "    StructField('thumbnail_link', StringType(), True),\n",
    "    StructField('comments_disabled', BooleanType(), True),\n",
    "    StructField('ratings_disabled', BooleanType(), True),\n",
    "    StructField('video_error_or_removed', BooleanType(), True),\n",
    "    StructField('description', StringType(), True)\n",
    "])"
   ]
  },
  {
   "cell_type": "code",
   "execution_count": 6,
   "metadata": {
    "editable": true
   },
   "outputs": [],
   "source": [
    "df_video = spark.read.format(\"csv\")\\\n",
    "            .option(\"header\", True)\\\n",
    "            .option(\"multiLine\", True)\\\n",
    "            .option(\"delimiter\", \",\")\\\n",
    "            .schema(schema_video)\\\n",
    "            .load(video)"
   ]
  },
  {
   "cell_type": "code",
   "execution_count": 17,
   "metadata": {
    "editable": true
   },
   "outputs": [
    {
     "data": {
      "text/plain": [
       "375941"
      ]
     },
     "execution_count": 17,
     "metadata": {},
     "output_type": "execute_result"
    }
   ],
   "source": [
    "df_video.count()"
   ]
  },
  {
   "cell_type": "code",
   "execution_count": null,
   "metadata": {
    "editable": true
   },
   "outputs": [],
   "source": [
    "df_video.groupby(['video_id']).count().where('count > 1').sort('count', ascending=False).show()"
   ]
  },
  {
   "cell_type": "code",
   "execution_count": 6,
   "metadata": {
    "editable": true
   },
   "outputs": [],
   "source": [
    "df_video = df_video.dropDuplicates(['video_id'])"
   ]
  },
  {
   "cell_type": "code",
   "execution_count": 20,
   "metadata": {
    "editable": true
   },
   "outputs": [
    {
     "data": {
      "text/plain": [
       "184287"
      ]
     },
     "execution_count": 20,
     "metadata": {},
     "output_type": "execute_result"
    }
   ],
   "source": [
    "df_video.count()"
   ]
  },
  {
   "cell_type": "code",
   "execution_count": 21,
   "metadata": {
    "editable": true
   },
   "outputs": [
    {
     "name": "stdout",
     "output_type": "stream",
     "text": [
      "root\n",
      " |-- video_id: string (nullable = true)\n",
      " |-- trending_date: string (nullable = true)\n",
      " |-- title: string (nullable = true)\n",
      " |-- channel_title: string (nullable = true)\n",
      " |-- category_id: integer (nullable = true)\n",
      " |-- publish_time: timestamp (nullable = true)\n",
      " |-- tags: string (nullable = true)\n",
      " |-- views: integer (nullable = true)\n",
      " |-- likes: integer (nullable = true)\n",
      " |-- dislikes: integer (nullable = true)\n",
      " |-- comment_count: integer (nullable = true)\n",
      " |-- thumbnail_link: string (nullable = true)\n",
      " |-- comments_disabled: boolean (nullable = true)\n",
      " |-- ratings_disabled: boolean (nullable = true)\n",
      " |-- video_error_or_removed: boolean (nullable = true)\n",
      " |-- description: string (nullable = true)\n",
      "\n"
     ]
    }
   ],
   "source": [
    "df_video.printSchema()"
   ]
  },
  {
   "cell_type": "code",
   "execution_count": 7,
   "metadata": {
    "editable": true
   },
   "outputs": [],
   "source": [
    "df_video = df_video.drop(F.col('thumbnail_link'))"
   ]
  },
  {
   "cell_type": "code",
   "execution_count": 23,
   "metadata": {
    "editable": true
   },
   "outputs": [
    {
     "name": "stdout",
     "output_type": "stream",
     "text": [
      "root\n",
      " |-- video_id: string (nullable = true)\n",
      " |-- trending_date: string (nullable = true)\n",
      " |-- title: string (nullable = true)\n",
      " |-- channel_title: string (nullable = true)\n",
      " |-- category_id: integer (nullable = true)\n",
      " |-- publish_time: timestamp (nullable = true)\n",
      " |-- tags: string (nullable = true)\n",
      " |-- views: integer (nullable = true)\n",
      " |-- likes: integer (nullable = true)\n",
      " |-- dislikes: integer (nullable = true)\n",
      " |-- comment_count: integer (nullable = true)\n",
      " |-- comments_disabled: boolean (nullable = true)\n",
      " |-- ratings_disabled: boolean (nullable = true)\n",
      " |-- video_error_or_removed: boolean (nullable = true)\n",
      " |-- description: string (nullable = true)\n",
      "\n"
     ]
    }
   ],
   "source": [
    "df_video.printSchema()"
   ]
  },
  {
   "cell_type": "code",
   "execution_count": 8,
   "metadata": {
    "editable": true
   },
   "outputs": [],
   "source": [
    "df_video = df_video.withColumn('trending_date', F.to_date(F.col('trending_date'), 'yy.dd.MM').alias('date'))"
   ]
  },
  {
   "cell_type": "code",
   "execution_count": 9,
   "metadata": {
    "editable": true
   },
   "outputs": [],
   "source": [
    "tags_to_list = F.udf(lambda x: x.replace('\"' ,'').split('|'))"
   ]
  },
  {
   "cell_type": "code",
   "execution_count": 10,
   "metadata": {
    "editable": true
   },
   "outputs": [],
   "source": [
    "video_table = df_video.withColumn('tags', F.when(F.col('tags') != '[none]',\n",
    "                                        tags_to_list(F.col('tags')))\n",
    "                                        .otherwise('[]'))"
   ]
  },
  {
   "cell_type": "code",
   "execution_count": 11,
   "metadata": {
    "editable": true
   },
   "outputs": [
    {
     "name": "stdout",
     "output_type": "stream",
     "text": [
      "+-----------+-------------+----------------------------+------------------+-----------+-------------------+------------------------------+-------+------+--------+-------------+-----------------+----------------+----------------------+----------------------------+\n",
      "|   video_id|trending_date|                       title|     channel_title|category_id|       publish_time|                          tags|  views| likes|dislikes|comment_count|comments_disabled|ratings_disabled|video_error_or_removed|                 description|\n",
      "+-----------+-------------+----------------------------+------------------+-----------+-------------------+------------------------------+-------+------+--------+-------------+-----------------+----------------+----------------------+----------------------------+\n",
      "|-H90GPnH1q8|   2017-12-11|        The Walking Dead ...|         AresPromo|         24|2017-12-11 03:40:15|          [The Walking Dead...|  90508|     0|       0|         1136|            false|            true|                 false|        The Walking Dead ...|\n",
      "|-mCPxSHIrPc|   2017-12-12|        das eis war nicht...|           iCrimax|         24|2017-12-11 14:30:58|          [funny, kid frien...|  90289|  6540|     442|          581|            false|           false|                 false|        Wir reagier aufe ...|\n",
      "|02QdxSLdVQc|   2018-01-24|        8 Experimentos SO...|       Criss Huera|         22|2018-01-23 22:10:38|          [EXPERIMENTOS DIV...| 222149| 16337|     240|         2840|            false|           false|                 false|        Hoy veremos 8 int...|\n",
      "|08-n4j46okM|   2018-02-08|        Блины Особенные. ...|   Калнина Наталья|         22|2018-02-07 16:42:46|          [блины, рцепт бли...|  63894|  8030|      64|          215|            false|           false|                 false|        Сырные блинчики. ...|\n",
      "|08URtcZ8em0|   2018-05-14|        Zemmour VS les Ma...|  L'Ermite Moderne|         24|2018-05-13 14:56:59|          [Ermite Moderne, ...|  28982|  2962|      45|          461|            false|           false|                 false|        Quand Zemmour rac...|\n",
      "|0BbDgMYIiEU|   2017-12-26|        10 СКРЫТЫХ СМЫСЛО...|        DaiFiveTop|         24|2017-12-25 15:48:41|          [top, top5, dai5,...| 162866|  9501|     899|          438|            false|           false|                 false|        ПОДПИШИСЬ НА НОВЫ...|\n",
      "|0Bl7xVD7Xtg|   2018-01-24|        Arios en el Vatic...| Revelacion Humana|         24|2018-01-24 01:00:02|          [AMLO, Andres Man...|   8276|   698|      25|          159|            false|           false|                 false|                           \n",
      "|0C6b6U9fz68|   2018-01-05|        4 January, 2018 P...|          only ias|         27|2018-01-04 04:24:13|                            []|  26350|     0|       0|            0|             true|            true|                 false|        Subscribe to http...|\n",
      "|0IVFegsnfwI|   2018-05-29|[먹방]엽기떡볶이 주먹밥 먹방|              꽃자|         24|2018-05-27 20:19:20|[꽃자, 채림, 서우, 트랜스젠...|  63584|   367|      46|           92|            false|           false|                 false|· 광고·후원·합방 문의 fkf...|\n",
      "|0MhAoY5piug|   2018-04-20|        ഗര്‍ഭിണിയുടെ തിരോ...|     Manorama News|         25|2018-04-19 11:05:21|          [Manorama News, N...| 149608|   366|      49|           96|            false|           false|                 false|        Subscribe to the ...|\n",
      "|0UTg35xNT1s|   2018-03-24|        Давай поженимся! ...|   Красный квадрат|         24|2018-03-23 13:30:00|          [давай поженимся,...|  30363|   101|      42|          126|            false|           false|                 false|        Жених - Евгений, ...|\n",
      "|0YyNLjWjJ_c|   2018-04-04|        Elli ERFÄHRT die ...| Köln50667 - Daily|         22|2018-04-03 18:09:59|          [BTN, Berlin, Köl...|  84055|   741|      23|           19|            false|           false|                 false|        Elli ERFÄHRT die ...|\n",
      "|0ZBz_1PCpOw|   2018-01-14|        Dänisches Brötche...|   Rocket Beans TV|         24|2018-01-12 13:46:40|          [urknall, urknall...|  29941|  1523|      52|          313|            false|           false|                 false|        ►Alle Folgen von ...|\n",
      "|0bXCbVGb04A|   2018-06-11|        Game Theory: FNAF...|The Game Theorists|         20|2018-06-10 19:05:21|          [fnaf, five night...|2341772|140376|    2951|        33760|            false|           false|                 false|        FNAF STUMPED Me! ...|\n",
      "|0vxqPjiOHnQ|   2018-01-03|           Hagnaven Akkus DE|          Hagnaven|         22|2017-12-05 12:43:21|          [Handy Akku, Ipho...|  15782|   225|       1|           10|            false|           false|                 false|        Die nordischen Gö...|\n",
      "|11K013qpRR4|   2018-06-09|        The LEGO Movie 2 ...|FilmSelect Trailer|         24|2018-06-05 12:50:30|          [trailer, movie, ...|2351056| 34469|     992|         5751|            false|           false|                 false|        The LEGO Movie 2 ...|\n",
      "|12vtBuPPeJw|   2018-05-21|        ЗАКОНЫ ПОДЛОСТИ П...|          NataLime|         22|2018-05-20 09:27:41|          [ЗАКОНЫ ПОДЛОСТИ,...| 462035| 45081|     522|         9709|            false|           false|                 false|        ЗАКОНЫ ПОДЛОСТИ П...|\n",
      "|14P_ewCNSlU|   2017-12-18|        Flinchless Blanke...|Achievement Hunter|         20|2017-12-17 18:00:00|          [Achievement Hunt...|  96459|  2724|      67|          490|            false|           false|                 false|        The AH Crew and s...|\n",
      "|15Eb9gkeQkA|   2018-01-21|        Te Agradezco JESÚ...|         Voz BLuna|         26|2018-01-20 11:30:01|          [Gracias Jesus, o...|  23258|  1920|      36|          128|            false|           false|                 false|        Te Agradezco Jesú...|\n",
      "|173_sjiKXQk|   2017-12-01|        Playing with 1000...|      iBuyNewStuff|         27|2017-11-29 12:02:39|          [magnetic balls, ...| 583707|  3227|     333|          406|            false|           false|                 false|        Magnetic Balls ak...|\n",
      "+-----------+-------------+----------------------------+------------------+-----------+-------------------+------------------------------+-------+------+--------+-------------+-----------------+----------------+----------------------+----------------------------+\n",
      "only showing top 20 rows\n",
      "\n"
     ]
    }
   ],
   "source": [
    "video_table.show(truncate=True)"
   ]
  },
  {
   "cell_type": "code",
   "execution_count": 12,
   "metadata": {
    "editable": true
   },
   "outputs": [],
   "source": [
    "fact_youtube_trending = video_table.select(['video_id', 'trending_date', 'category_id', 'publish_time', 'views', 'likes', 'dislikes', 'comment_count'])"
   ]
  },
  {
   "cell_type": "code",
   "execution_count": 13,
   "metadata": {
    "editable": true
   },
   "outputs": [
    {
     "name": "stdout",
     "output_type": "stream",
     "text": [
      "root\n",
      " |-- video_id: string (nullable = true)\n",
      " |-- trending_date: date (nullable = true)\n",
      " |-- category_id: integer (nullable = true)\n",
      " |-- publish_time: timestamp (nullable = true)\n",
      " |-- views: integer (nullable = true)\n",
      " |-- likes: integer (nullable = true)\n",
      " |-- dislikes: integer (nullable = true)\n",
      " |-- comment_count: integer (nullable = true)\n",
      "\n"
     ]
    }
   ],
   "source": [
    "fact_youtube_trending.printSchema()"
   ]
  },
  {
   "cell_type": "code",
   "execution_count": 14,
   "metadata": {
    "editable": true
   },
   "outputs": [
    {
     "name": "stdout",
     "output_type": "stream",
     "text": [
      "+-----------+-------------+-----------+-------------------+-------+------+--------+-------------+\n",
      "|   video_id|trending_date|category_id|       publish_time|  views| likes|dislikes|comment_count|\n",
      "+-----------+-------------+-----------+-------------------+-------+------+--------+-------------+\n",
      "|-H90GPnH1q8|   2017-12-11|         24|2017-12-11 03:40:15|  90508|     0|       0|         1136|\n",
      "|-mCPxSHIrPc|   2017-12-12|         24|2017-12-11 14:30:58|  90289|  6540|     442|          581|\n",
      "|02QdxSLdVQc|   2018-01-24|         22|2018-01-23 22:10:38| 222149| 16337|     240|         2840|\n",
      "|08-n4j46okM|   2018-02-08|         22|2018-02-07 16:42:46|  63894|  8030|      64|          215|\n",
      "|08URtcZ8em0|   2018-05-14|         24|2018-05-13 14:56:59|  28982|  2962|      45|          461|\n",
      "|0BbDgMYIiEU|   2017-12-26|         24|2017-12-25 15:48:41| 162866|  9501|     899|          438|\n",
      "|0Bl7xVD7Xtg|   2018-01-24|         24|2018-01-24 01:00:02|   8276|   698|      25|          159|\n",
      "|0C6b6U9fz68|   2018-01-05|         27|2018-01-04 04:24:13|  26350|     0|       0|            0|\n",
      "|0IVFegsnfwI|   2018-05-29|         24|2018-05-27 20:19:20|  63584|   367|      46|           92|\n",
      "|0MhAoY5piug|   2018-04-20|         25|2018-04-19 11:05:21| 149608|   366|      49|           96|\n",
      "|0UTg35xNT1s|   2018-03-24|         24|2018-03-23 13:30:00|  30363|   101|      42|          126|\n",
      "|0YyNLjWjJ_c|   2018-04-04|         22|2018-04-03 18:09:59|  84055|   741|      23|           19|\n",
      "|0ZBz_1PCpOw|   2018-01-14|         24|2018-01-12 13:46:40|  29941|  1523|      52|          313|\n",
      "|0bXCbVGb04A|   2018-06-11|         20|2018-06-10 19:05:21|2341772|140376|    2951|        33760|\n",
      "|0vxqPjiOHnQ|   2018-01-03|         22|2017-12-05 12:43:21|  15782|   225|       1|           10|\n",
      "|11K013qpRR4|   2018-06-09|         24|2018-06-05 12:50:30|2351056| 34469|     992|         5751|\n",
      "|12vtBuPPeJw|   2018-05-21|         22|2018-05-20 09:27:41| 462035| 45081|     522|         9709|\n",
      "|14P_ewCNSlU|   2017-12-18|         20|2017-12-17 18:00:00|  96459|  2724|      67|          490|\n",
      "|15Eb9gkeQkA|   2018-01-21|         26|2018-01-20 11:30:01|  23258|  1920|      36|          128|\n",
      "|173_sjiKXQk|   2017-12-01|         27|2017-11-29 12:02:39| 583707|  3227|     333|          406|\n",
      "+-----------+-------------+-----------+-------------------+-------+------+--------+-------------+\n",
      "only showing top 20 rows\n",
      "\n"
     ]
    }
   ],
   "source": [
    "fact_youtube_trending.show()"
   ]
  },
  {
   "cell_type": "code",
   "execution_count": 101,
   "metadata": {
    "editable": true
   },
   "outputs": [
    {
     "name": "stdout",
     "output_type": "stream",
     "text": [
      "+-----------+-------------+-----------+-------------------+-------+------+--------+-------------+\n",
      "|   video_id|trending_date|category_id|       publish_time|  views| likes|dislikes|comment_count|\n",
      "+-----------+-------------+-----------+-------------------+-------+------+--------+-------------+\n",
      "|-H90GPnH1q8|   2017-12-11|         24|2017-12-11 03:40:15|  90508|     0|       0|         1136|\n",
      "|-mCPxSHIrPc|   2017-12-12|         24|2017-12-11 14:30:58|  90289|  6540|     442|          581|\n",
      "|02QdxSLdVQc|   2018-01-24|         22|2018-01-23 22:10:38| 222149| 16337|     240|         2840|\n",
      "|08-n4j46okM|   2018-02-08|         22|2018-02-07 16:42:46|  63894|  8030|      64|          215|\n",
      "|08URtcZ8em0|   2018-05-14|         24|2018-05-13 14:56:59|  28982|  2962|      45|          461|\n",
      "|0BbDgMYIiEU|   2017-12-26|         24|2017-12-25 15:48:41| 162866|  9501|     899|          438|\n",
      "|0Bl7xVD7Xtg|   2018-01-24|         24|2018-01-24 01:00:02|   8276|   698|      25|          159|\n",
      "|0C6b6U9fz68|   2018-01-05|         27|2018-01-04 04:24:13|  26350|     0|       0|            0|\n",
      "|0IVFegsnfwI|   2018-05-29|         24|2018-05-27 20:19:20|  63584|   367|      46|           92|\n",
      "|0MhAoY5piug|   2018-04-20|         25|2018-04-19 11:05:21| 149608|   366|      49|           96|\n",
      "|0UTg35xNT1s|   2018-03-24|         24|2018-03-23 13:30:00|  30363|   101|      42|          126|\n",
      "|0YyNLjWjJ_c|   2018-04-04|         22|2018-04-03 18:09:59|  84055|   741|      23|           19|\n",
      "|0ZBz_1PCpOw|   2018-01-14|         24|2018-01-12 13:46:40|  29941|  1523|      52|          313|\n",
      "|0bXCbVGb04A|   2018-06-11|         20|2018-06-10 19:05:21|2341772|140376|    2951|        33760|\n",
      "|0vxqPjiOHnQ|   2018-01-03|         22|2017-12-05 12:43:21|  15782|   225|       1|           10|\n",
      "|11K013qpRR4|   2018-06-09|         24|2018-06-05 12:50:30|2351056| 34469|     992|         5751|\n",
      "|12vtBuPPeJw|   2018-05-21|         22|2018-05-20 09:27:41| 462035| 45081|     522|         9709|\n",
      "|14P_ewCNSlU|   2017-12-18|         20|2017-12-17 18:00:00|  96459|  2724|      67|          490|\n",
      "|15Eb9gkeQkA|   2018-01-21|         26|2018-01-20 11:30:01|  23258|  1920|      36|          128|\n",
      "|173_sjiKXQk|   2017-12-01|         27|2017-11-29 12:02:39| 583707|  3227|     333|          406|\n",
      "+-----------+-------------+-----------+-------------------+-------+------+--------+-------------+\n",
      "only showing top 20 rows\n",
      "\n"
     ]
    }
   ],
   "source": [
    "fact_youtube_trending.show()"
   ]
  },
  {
   "cell_type": "code",
   "execution_count": 15,
   "metadata": {
    "editable": true
   },
   "outputs": [],
   "source": [
    "dim_video = video_table.select(['video_id', 'title', 'channel_title', 'tags', 'comments_disabled', 'ratings_disabled', 'video_error_or_removed'])"
   ]
  },
  {
   "cell_type": "code",
   "execution_count": 16,
   "metadata": {
    "editable": true
   },
   "outputs": [
    {
     "name": "stdout",
     "output_type": "stream",
     "text": [
      "root\n",
      " |-- video_id: string (nullable = true)\n",
      " |-- title: string (nullable = true)\n",
      " |-- channel_title: string (nullable = true)\n",
      " |-- tags: string (nullable = true)\n",
      " |-- comments_disabled: boolean (nullable = true)\n",
      " |-- ratings_disabled: boolean (nullable = true)\n",
      " |-- video_error_or_removed: boolean (nullable = true)\n",
      " |-- description: string (nullable = true)\n",
      "\n"
     ]
    }
   ],
   "source": [
    "dim_video.printSchema()"
   ]
  },
  {
   "cell_type": "code",
   "execution_count": 20,
   "metadata": {
    "editable": true
   },
   "outputs": [],
   "source": [
    "vid = dim_video.toPandas()\n",
    "vid = vid.values.tolist()"
   ]
  },
  {
   "cell_type": "code",
   "execution_count": 6,
   "metadata": {
    "editable": true
   },
   "outputs": [],
   "source": [
    "import psycopg2\n",
    "import pandas as pd"
   ]
  },
  {
   "cell_type": "code",
   "execution_count": 26,
   "metadata": {
    "editable": true
   },
   "outputs": [],
   "source": [
    "def quality_check(cur):\n",
    "    cur.execute('SELECT COUNT(*) FROM dim_category')\n",
    "    response = cur.fetchone()\n",
    "    if response[0] <= 0:\n",
    "        return 'Quality check failed !!!!'\n",
    "    else: \n",
    "        return 'There have data. Pipeline success write data'"
   ]
  },
  {
   "cell_type": "code",
   "execution_count": 27,
   "metadata": {
    "editable": true
   },
   "outputs": [
    {
     "data": {
      "text/plain": [
       "'Quality check failed !!!!'"
      ]
     },
     "execution_count": 27,
     "metadata": {},
     "output_type": "execute_result"
    }
   ],
   "source": [
    "quality_check(cur)"
   ]
  },
  {
   "cell_type": "code",
   "execution_count": 7,
   "metadata": {
    "editable": true
   },
   "outputs": [
    {
     "data": {
      "text/html": [
       "<div>\n",
       "<style scoped>\n",
       "    .dataframe tbody tr th:only-of-type {\n",
       "        vertical-align: middle;\n",
       "    }\n",
       "\n",
       "    .dataframe tbody tr th {\n",
       "        vertical-align: top;\n",
       "    }\n",
       "\n",
       "    .dataframe thead th {\n",
       "        text-align: right;\n",
       "    }\n",
       "</style>\n",
       "<table border=\"1\" class=\"dataframe\">\n",
       "  <thead>\n",
       "    <tr style=\"text-align: right;\">\n",
       "      <th></th>\n",
       "      <th>Param</th>\n",
       "      <th>Value</th>\n",
       "    </tr>\n",
       "  </thead>\n",
       "  <tbody>\n",
       "    <tr>\n",
       "      <th>0</th>\n",
       "      <td>DWH_CLUSTER_TYPE</td>\n",
       "      <td>multi-node</td>\n",
       "    </tr>\n",
       "    <tr>\n",
       "      <th>1</th>\n",
       "      <td>DWH_NUM_NODES</td>\n",
       "      <td>4</td>\n",
       "    </tr>\n",
       "    <tr>\n",
       "      <th>2</th>\n",
       "      <td>DWH_NODE_TYPE</td>\n",
       "      <td>dc2.large</td>\n",
       "    </tr>\n",
       "    <tr>\n",
       "      <th>3</th>\n",
       "      <td>DWH_CLUSTER_IDENTIFIER</td>\n",
       "      <td>dwhcluster</td>\n",
       "    </tr>\n",
       "    <tr>\n",
       "      <th>4</th>\n",
       "      <td>DWH_DB</td>\n",
       "      <td>dwh_youtube</td>\n",
       "    </tr>\n",
       "    <tr>\n",
       "      <th>5</th>\n",
       "      <td>DWH_DB_USER</td>\n",
       "      <td>thuydd7</td>\n",
       "    </tr>\n",
       "    <tr>\n",
       "      <th>6</th>\n",
       "      <td>DWH_DB_PASSWORD</td>\n",
       "      <td>Amazon1234</td>\n",
       "    </tr>\n",
       "    <tr>\n",
       "      <th>7</th>\n",
       "      <td>DWH_PORT</td>\n",
       "      <td>5439</td>\n",
       "    </tr>\n",
       "    <tr>\n",
       "      <th>8</th>\n",
       "      <td>DWH_IAM_ROLE_NAME</td>\n",
       "      <td>thuyrole</td>\n",
       "    </tr>\n",
       "  </tbody>\n",
       "</table>\n",
       "</div>"
      ],
      "text/plain": [
       "                    Param        Value\n",
       "0        DWH_CLUSTER_TYPE   multi-node\n",
       "1           DWH_NUM_NODES            4\n",
       "2           DWH_NODE_TYPE    dc2.large\n",
       "3  DWH_CLUSTER_IDENTIFIER   dwhcluster\n",
       "4                  DWH_DB  dwh_youtube\n",
       "5             DWH_DB_USER      thuydd7\n",
       "6         DWH_DB_PASSWORD   Amazon1234\n",
       "7                DWH_PORT         5439\n",
       "8       DWH_IAM_ROLE_NAME     thuyrole"
      ]
     },
     "execution_count": 7,
     "metadata": {},
     "output_type": "execute_result"
    }
   ],
   "source": [
    "import configparser\n",
    "config = configparser.ConfigParser()\n",
    "config.read_file(open('dwh.cfg'))\n",
    "\n",
    "KEY                    = config.get('AWS','KEY')\n",
    "SECRET                 = config.get('AWS','SECRET')\n",
    "\n",
    "DWH_CLUSTER_TYPE       = config.get(\"DWH\",\"DWH_CLUSTER_TYPE\")\n",
    "DWH_NUM_NODES          = config.get(\"DWH\",\"DWH_NUM_NODES\")\n",
    "DWH_NODE_TYPE          = config.get(\"DWH\",\"DWH_NODE_TYPE\")\n",
    "\n",
    "DWH_CLUSTER_IDENTIFIER = config.get(\"DWH\",\"DWH_CLUSTER_IDENTIFIER\")\n",
    "DWH_DB                 = config.get(\"DWH\",\"DWH_DB\")\n",
    "DWH_DB_USER            = config.get(\"DWH\",\"DWH_DB_USER\")\n",
    "DWH_DB_PASSWORD        = config.get(\"DWH\",\"DWH_DB_PASSWORD\")\n",
    "DWH_PORT               = config.get(\"DWH\",\"DWH_PORT\")\n",
    "\n",
    "DWH_IAM_ROLE_NAME      = config.get(\"DWH\", \"DWH_IAM_ROLE_NAME\")\n",
    "\n",
    "(DWH_DB_USER, DWH_DB_PASSWORD, DWH_DB)\n",
    "\n",
    "pd.DataFrame({\"Param\":\n",
    "                  [\"DWH_CLUSTER_TYPE\", \"DWH_NUM_NODES\", \"DWH_NODE_TYPE\", \"DWH_CLUSTER_IDENTIFIER\", \"DWH_DB\", \"DWH_DB_USER\", \"DWH_DB_PASSWORD\", \"DWH_PORT\", \"DWH_IAM_ROLE_NAME\"],\n",
    "              \"Value\":\n",
    "                  [DWH_CLUSTER_TYPE, DWH_NUM_NODES, DWH_NODE_TYPE, DWH_CLUSTER_IDENTIFIER, DWH_DB, DWH_DB_USER, DWH_DB_PASSWORD, DWH_PORT, DWH_IAM_ROLE_NAME]\n",
    "             })"
   ]
  },
  {
   "cell_type": "code",
   "execution_count": 8,
   "metadata": {
    "editable": true
   },
   "outputs": [],
   "source": [
    "conn = psycopg2.connect(\"host={} dbname={} user={} password={} port={}\".format(*config['CLUSTER'].values()))\n",
    "cur = conn.cursor()"
   ]
  },
  {
   "cell_type": "code",
   "execution_count": 12,
   "metadata": {
    "editable": true
   },
   "outputs": [],
   "source": [
    "cur.execute('SELECT COUNT(*) FROM dim_category')\n",
    "response = cur.fetchone()"
   ]
  },
  {
   "cell_type": "code",
   "execution_count": 22,
   "metadata": {
    "editable": true
   },
   "outputs": [],
   "source": [
    "import sql_queries"
   ]
  }
 ],
 "metadata": {
  "kernelspec": {
   "display_name": "Python 3",
   "language": "python",
   "name": "python3"
  },
  "language_info": {
   "codemirror_mode": {
    "name": "ipython",
    "version": 3
   },
   "file_extension": ".py",
   "mimetype": "text/x-python",
   "name": "python",
   "nbconvert_exporter": "python",
   "pygments_lexer": "ipython3",
   "version": "3.6.3"
  }
 },
 "nbformat": 4,
 "nbformat_minor": 4
}
